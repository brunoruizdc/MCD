{
 "cells": [
  {
   "cell_type": "markdown",
   "id": "23a50b01-1d35-42d7-ae8c-85e4917034e1",
   "metadata": {},
   "source": [
    "# Multicriteria Decision-Making"
   ]
  },
  {
   "cell_type": "markdown",
   "id": "a4cd8fb4-1940-4643-972a-bd5058444f2c",
   "metadata": {},
   "source": [
    "## 1. Prepare data file with the comparissons: "
   ]
  },
  {
   "cell_type": "code",
   "execution_count": 41,
   "id": "dc0f871b-bde2-4704-8a92-20774b1e5760",
   "metadata": {},
   "outputs": [
    {
     "data": {
      "text/html": [
       "\n",
       "<iframe src=\"https://docs.google.com/spreadsheets/d/e/2PACX-1vSrg-gBK7vGsygKkwyqyqHrvwfvFT6gGDrfeopXh_fAEBoJOkkIxIX-sL0jQuZrQA/pubhtml\" width=\"600\" height=\"300\"></iframe>\n"
      ],
      "text/plain": [
       "<IPython.core.display.HTML object>"
      ]
     },
     "metadata": {},
     "output_type": "display_data"
    }
   ],
   "source": [
    "%%html\n",
    "\n",
    "<iframe src=\"https://docs.google.com/spreadsheets/d/e/2PACX-1vSrg-gBK7vGsygKkwyqyqHrvwfvFT6gGDrfeopXh_fAEBoJOkkIxIX-sL0jQuZrQA/pubhtml\" width=\"600\" height=\"300\"></iframe>"
   ]
  },
  {
   "cell_type": "code",
   "execution_count": 42,
   "id": "a09910f6-7aef-4bcc-8716-ea4ab9b536e5",
   "metadata": {},
   "outputs": [],
   "source": [
    "linkGoogle = 'https://docs.google.com/spreadsheets/d/e/2PACX-1vSrg-gBK7vGsygKkwyqyqHrvwfvFT6gGDrfeopXh_fAEBoJOkkIxIX-sL0jQuZrQA/pub?output=xlsx'"
   ]
  },
  {
   "cell_type": "markdown",
   "id": "9fb8d48d-b60a-49cf-990f-08febb2eef90",
   "metadata": {},
   "source": [
    "## 3. Open each sheet:"
   ]
  },
  {
   "cell_type": "code",
   "execution_count": 43,
   "id": "8d06051c-9343-4c3b-bf85-a81ed3d6167c",
   "metadata": {},
   "outputs": [
    {
     "name": "stdout",
     "output_type": "stream",
     "text": [
      "Requirement already satisfied: openpyxl in c:\\users\\ruizd\\anaconda3\\envs\\asies2\\lib\\site-packages (3.1.5)\n",
      "Requirement already satisfied: et-xmlfile in c:\\users\\ruizd\\anaconda3\\envs\\asies2\\lib\\site-packages (from openpyxl) (2.0.0)\n"
     ]
    }
   ],
   "source": [
    "! pip install openpyxl\n",
    "import pandas as pd\n",
    "\n",
    "pairwise_ideology=pd.read_excel(linkGoogle,sheet_name='ideología', index_col=0)\n",
    "pairwise_incentives=pd.read_excel(linkGoogle,sheet_name='incentivos', index_col=0)\n",
    "pairwise_political_control=pd.read_excel(linkGoogle,sheet_name='control_político', index_col=0)\n",
    "pairwise_criteria=pd.read_excel(linkGoogle,sheet_name='criteria', index_col=0)"
   ]
  },
  {
   "cell_type": "markdown",
   "id": "72ee3c70-745e-4a9e-a444-31e05a80c12d",
   "metadata": {},
   "source": [
    "Check the structure:"
   ]
  },
  {
   "cell_type": "code",
   "execution_count": 44,
   "id": "c0cb27b1-20fc-4dd2-9207-69c66beb753d",
   "metadata": {},
   "outputs": [
    {
     "data": {
      "text/html": [
       "<div>\n",
       "<style scoped>\n",
       "    .dataframe tbody tr th:only-of-type {\n",
       "        vertical-align: middle;\n",
       "    }\n",
       "\n",
       "    .dataframe tbody tr th {\n",
       "        vertical-align: top;\n",
       "    }\n",
       "\n",
       "    .dataframe thead th {\n",
       "        text-align: right;\n",
       "    }\n",
       "</style>\n",
       "<table border=\"1\" class=\"dataframe\">\n",
       "  <thead>\n",
       "    <tr style=\"text-align: right;\">\n",
       "      <th></th>\n",
       "      <th>ideología</th>\n",
       "      <th>incentivos</th>\n",
       "      <th>control_político</th>\n",
       "    </tr>\n",
       "  </thead>\n",
       "  <tbody>\n",
       "    <tr>\n",
       "      <th>ideología</th>\n",
       "      <td>1</td>\n",
       "      <td>0.111111</td>\n",
       "      <td>0.142857</td>\n",
       "    </tr>\n",
       "    <tr>\n",
       "      <th>incentivos</th>\n",
       "      <td>9</td>\n",
       "      <td>1.000000</td>\n",
       "      <td>6.000000</td>\n",
       "    </tr>\n",
       "    <tr>\n",
       "      <th>control_político</th>\n",
       "      <td>7</td>\n",
       "      <td>0.166667</td>\n",
       "      <td>1.000000</td>\n",
       "    </tr>\n",
       "  </tbody>\n",
       "</table>\n",
       "</div>"
      ],
      "text/plain": [
       "                  ideología  incentivos  control_político\n",
       "ideología                 1    0.111111          0.142857\n",
       "incentivos                9    1.000000          6.000000\n",
       "control_político          7    0.166667          1.000000"
      ]
     },
     "execution_count": 44,
     "metadata": {},
     "output_type": "execute_result"
    }
   ],
   "source": [
    "pairwise_criteria"
   ]
  },
  {
   "cell_type": "markdown",
   "id": "f1962a91-ac14-4703-ae61-99e8219a9370",
   "metadata": {},
   "source": [
    "4. Transform all matrices into pairwise comparissons: "
   ]
  },
  {
   "cell_type": "code",
   "execution_count": 45,
   "id": "51050e9b-b030-4a40-9081-9b4af9410040",
   "metadata": {},
   "outputs": [
    {
     "data": {
      "text/plain": [
       "OutMultiEdgeDataView([('BancadaLiberal', 'BancadaLiberal', {'weight': 1.0}), ('BancadaLiberal', 'AcciónRepublicana', {'weight': 4.0}), ('BancadaLiberal', 'Noalineado', {'weight': 8.0}), ('BancadaLiberal', 'Contigo', {'weight': 5.0}), ('AcciónRepublicana', 'BancadaLiberal', {'weight': 0.25}), ('AcciónRepublicana', 'AcciónRepublicana', {'weight': 1.0}), ('AcciónRepublicana', 'Noalineado', {'weight': 6.0}), ('AcciónRepublicana', 'Contigo', {'weight': 5.0}), ('Noalineado', 'BancadaLiberal', {'weight': 0.2}), ('Noalineado', 'AcciónRepublicana', {'weight': 0.2}), ('Noalineado', 'Noalineado', {'weight': 1.0}), ('Noalineado', 'Contigo', {'weight': 0.25}), ('Contigo', 'BancadaLiberal', {'weight': 0.2}), ('Contigo', 'AcciónRepublicana', {'weight': 0.3}), ('Contigo', 'Noalineado', {'weight': 4.0}), ('Contigo', 'Contigo', {'weight': 1.0})])"
      ]
     },
     "execution_count": 45,
     "metadata": {},
     "output_type": "execute_result"
    }
   ],
   "source": [
    "import networkx as nx\n",
    "\n",
    "G_policymaking = nx.from_pandas_adjacency(pairwise_ideology,create_using=nx.MultiDiGraph())\n",
    "G_policymaking.edges(data=True)"
   ]
  },
  {
   "cell_type": "markdown",
   "id": "d1bf123c-81f0-4ebf-bcea-c5b44574244c",
   "metadata": {},
   "source": [
    "All good :)"
   ]
  },
  {
   "cell_type": "code",
   "execution_count": 46,
   "id": "ab32c393-9f1e-4f0c-9225-6e3947996cf2",
   "metadata": {},
   "outputs": [
    {
     "data": {
      "text/plain": [
       "{('BancadaLiberal', 'AcciónRepublicana'): 4.0,\n",
       " ('BancadaLiberal', 'Noalineado'): 8.0,\n",
       " ('BancadaLiberal', 'Contigo'): 5.0,\n",
       " ('AcciónRepublicana', 'BancadaLiberal'): 0.25,\n",
       " ('AcciónRepublicana', 'Noalineado'): 6.0,\n",
       " ('AcciónRepublicana', 'Contigo'): 5.0,\n",
       " ('Noalineado', 'BancadaLiberal'): 0.2,\n",
       " ('Noalineado', 'AcciónRepublicana'): 0.2,\n",
       " ('Noalineado', 'Contigo'): 0.25,\n",
       " ('Contigo', 'BancadaLiberal'): 0.2,\n",
       " ('Contigo', 'AcciónRepublicana'): 0.3,\n",
       " ('Contigo', 'Noalineado'): 4.0}"
      ]
     },
     "execution_count": 46,
     "metadata": {},
     "output_type": "execute_result"
    }
   ],
   "source": [
    "policymaking_comparisons ={(e[0],e[1]):e[2]['weight'] for e in G_policymaking.edges(data=True) if e[0]!= e[1]}\n",
    "policymaking_comparisons"
   ]
  },
  {
   "cell_type": "code",
   "execution_count": 47,
   "id": "7722d368-3dcf-478a-8d16-c0b99ecb581d",
   "metadata": {},
   "outputs": [
    {
     "name": "stdout",
     "output_type": "stream",
     "text": [
      "BancadaLiberal       float64\n",
      "AcciónRepublicana    float64\n",
      "Noalineado             int64\n",
      "Contigo              float64\n",
      "dtype: object\n",
      "BancadaLiberal       float64\n",
      "AcciónRepublicana    float64\n",
      "Noalineado             int64\n",
      "Contigo              float64\n",
      "dtype: object\n"
     ]
    }
   ],
   "source": [
    "print(pairwise_incentives.dtypes)\n",
    "print(pairwise_political_control.dtypes)"
   ]
  },
  {
   "cell_type": "code",
   "execution_count": 48,
   "id": "d5c5521f-1364-49ff-ac42-13ef92dcd5be",
   "metadata": {},
   "outputs": [],
   "source": [
    "pairwise_incentives = pairwise_incentives.apply(pd.to_numeric, errors='coerce').fillna(0)\n",
    "pairwise_political_control = pairwise_political_control.apply(pd.to_numeric, errors='coerce').fillna(0)"
   ]
  },
  {
   "cell_type": "code",
   "execution_count": 49,
   "id": "2072bba8-9b70-4fc0-905b-4f65455fa3cd",
   "metadata": {},
   "outputs": [],
   "source": [
    "pairwise_incentives = pairwise_incentives.astype(float)\n",
    "pairwise_political_control = pairwise_political_control.astype(float)"
   ]
  },
  {
   "cell_type": "code",
   "execution_count": 50,
   "id": "84cf4604-5ddb-4d00-b64d-30efad33f567",
   "metadata": {},
   "outputs": [],
   "source": [
    "G_incentives = nx.from_pandas_adjacency(pairwise_incentives,create_using=nx.MultiDiGraph())\n",
    "incentives_comparisons={(e[0],e[1]):e[2]['weight'] for e in G_incentives.edges(data=True) if e[0]!= e[1]}\n",
    "\n",
    "G_political_control = nx.from_pandas_adjacency(pairwise_political_control,create_using=nx.MultiDiGraph())\n",
    "political_control_comparisons={(e[0],e[1]):e[2]['weight'] for e in G_political_control.edges(data=True) if e[0]!= e[1]}"
   ]
  },
  {
   "cell_type": "code",
   "execution_count": 51,
   "id": "d66710b9-b055-453b-820c-9b45abf70e80",
   "metadata": {},
   "outputs": [
    {
     "data": {
      "text/plain": [
       "[{('BancadaLiberal', 'AcciónRepublicana'): 4.0,\n",
       "  ('BancadaLiberal', 'Noalineado'): 8.0,\n",
       "  ('BancadaLiberal', 'Contigo'): 5.0,\n",
       "  ('AcciónRepublicana', 'BancadaLiberal'): 0.25,\n",
       "  ('AcciónRepublicana', 'Noalineado'): 6.0,\n",
       "  ('AcciónRepublicana', 'Contigo'): 5.0,\n",
       "  ('Noalineado', 'BancadaLiberal'): 0.2,\n",
       "  ('Noalineado', 'AcciónRepublicana'): 0.2,\n",
       "  ('Noalineado', 'Contigo'): 0.25,\n",
       "  ('Contigo', 'BancadaLiberal'): 0.2,\n",
       "  ('Contigo', 'AcciónRepublicana'): 0.3,\n",
       "  ('Contigo', 'Noalineado'): 4.0},\n",
       " {('BancadaLiberal', 'AcciónRepublicana'): 2.0,\n",
       "  ('BancadaLiberal', 'Noalineado'): 8.0,\n",
       "  ('BancadaLiberal', 'Contigo'): 4.0,\n",
       "  ('AcciónRepublicana', 'BancadaLiberal'): 0.5,\n",
       "  ('AcciónRepublicana', 'Noalineado'): 7.0,\n",
       "  ('AcciónRepublicana', 'Contigo'): 3.0,\n",
       "  ('Noalineado', 'BancadaLiberal'): 0.125,\n",
       "  ('Noalineado', 'AcciónRepublicana'): 0.2,\n",
       "  ('Noalineado', 'Contigo'): 0.1666666667,\n",
       "  ('Contigo', 'BancadaLiberal'): 0.25,\n",
       "  ('Contigo', 'AcciónRepublicana'): 0.3,\n",
       "  ('Contigo', 'Noalineado'): 6.0},\n",
       " {('BancadaLiberal', 'AcciónRepublicana'): 0.2,\n",
       "  ('BancadaLiberal', 'Noalineado'): 8.0,\n",
       "  ('BancadaLiberal', 'Contigo'): 5.0,\n",
       "  ('AcciónRepublicana', 'BancadaLiberal'): 5.0,\n",
       "  ('AcciónRepublicana', 'Noalineado'): 6.0,\n",
       "  ('AcciónRepublicana', 'Contigo'): 5.0,\n",
       "  ('Noalineado', 'BancadaLiberal'): 0.125,\n",
       "  ('Noalineado', 'AcciónRepublicana'): 0.1666666667,\n",
       "  ('Noalineado', 'Contigo'): 0.25,\n",
       "  ('Contigo', 'BancadaLiberal'): 0.2,\n",
       "  ('Contigo', 'AcciónRepublicana'): 0.2,\n",
       "  ('Contigo', 'Noalineado'): 4.0}]"
      ]
     },
     "execution_count": 51,
     "metadata": {},
     "output_type": "execute_result"
    }
   ],
   "source": [
    "# take a look\n",
    "[policymaking_comparisons, incentives_comparisons,political_control_comparisons]"
   ]
  },
  {
   "cell_type": "code",
   "execution_count": 52,
   "id": "3e9b95ab-fc41-449f-a980-f9c2ead74a96",
   "metadata": {},
   "outputs": [
    {
     "data": {
      "text/plain": [
       "{('ideología', 'incentivos'): 0.1111111111,\n",
       " ('ideología', 'control_político'): 0.1428571429,\n",
       " ('incentivos', 'ideología'): 9.0,\n",
       " ('incentivos', 'control_político'): 6.0,\n",
       " ('control_político', 'ideología'): 7.0,\n",
       " ('control_político', 'incentivos'): 0.1666666667}"
      ]
     },
     "execution_count": 52,
     "metadata": {},
     "output_type": "execute_result"
    }
   ],
   "source": [
    "# now the criteria\n",
    "\n",
    "G_CRIT = nx.from_pandas_adjacency(pairwise_criteria,create_using=nx.MultiDiGraph())\n",
    "criteria_comparisons ={(e[0],e[1]):e[2]['weight'] for e in G_CRIT.edges(data=True) if e[0]!= e[1]}\n",
    "criteria_comparisons"
   ]
  },
  {
   "cell_type": "markdown",
   "id": "ebd9818b-5adf-40e3-9ef8-e6af4e2e8652",
   "metadata": {},
   "source": [
    "## 5. Apply the Algorithm"
   ]
  },
  {
   "cell_type": "code",
   "execution_count": 35,
   "id": "1d1c71e2-c911-4bca-b20e-9af6cf4f7a74",
   "metadata": {},
   "outputs": [
    {
     "name": "stdout",
     "output_type": "stream",
     "text": [
      "Requirement already satisfied: ahpy==1.2 in c:\\users\\ruizd\\anaconda3\\envs\\asies2\\lib\\site-packages (1.2)\n",
      "Requirement already satisfied: numpy in c:\\users\\ruizd\\anaconda3\\envs\\asies2\\lib\\site-packages (from ahpy==1.2) (2.1.3)\n",
      "Requirement already satisfied: scipy in c:\\users\\ruizd\\anaconda3\\envs\\asies2\\lib\\site-packages (from ahpy==1.2) (1.14.1)\n"
     ]
    }
   ],
   "source": [
    "! pip install ahpy==1.2"
   ]
  },
  {
   "cell_type": "code",
   "execution_count": 39,
   "id": "0b7af24a-8e91-4835-87c0-ad971cb5d265",
   "metadata": {},
   "outputs": [
    {
     "name": "stdout",
     "output_type": "stream",
     "text": [
      "Collecting NumPy==1.24.0\n",
      "  Downloading numpy-1.24.0.tar.gz (10.9 MB)\n",
      "     ---------------------------------------- 0.0/10.9 MB ? eta -:--:--\n",
      "      --------------------------------------- 0.3/10.9 MB ? eta -:--:--\n",
      "     -- ------------------------------------- 0.8/10.9 MB 2.2 MB/s eta 0:00:05\n",
      "     ---- ----------------------------------- 1.3/10.9 MB 2.4 MB/s eta 0:00:05\n",
      "     ------ --------------------------------- 1.8/10.9 MB 2.5 MB/s eta 0:00:04\n",
      "     --------- ------------------------------ 2.6/10.9 MB 2.6 MB/s eta 0:00:04\n",
      "     ------------ --------------------------- 3.4/10.9 MB 2.8 MB/s eta 0:00:03\n",
      "     --------------- ------------------------ 4.2/10.9 MB 3.0 MB/s eta 0:00:03\n",
      "     ------------------- -------------------- 5.2/10.9 MB 3.2 MB/s eta 0:00:02\n",
      "     ---------------------- ----------------- 6.0/10.9 MB 3.3 MB/s eta 0:00:02\n",
      "     ------------------------- -------------- 7.1/10.9 MB 3.5 MB/s eta 0:00:02\n",
      "     ------------------------------ --------- 8.4/10.9 MB 3.7 MB/s eta 0:00:01\n",
      "     ---------------------------------- ----- 9.4/10.9 MB 3.8 MB/s eta 0:00:01\n",
      "     ---------------------------------- ----- 9.4/10.9 MB 3.8 MB/s eta 0:00:01\n",
      "     ---------------------------------------- 10.9/10.9 MB 3.7 MB/s eta 0:00:00\n",
      "  Installing build dependencies: started\n",
      "  Installing build dependencies: finished with status 'done'\n",
      "  Getting requirements to build wheel: started\n",
      "  Getting requirements to build wheel: finished with status 'error'\n"
     ]
    },
    {
     "name": "stderr",
     "output_type": "stream",
     "text": [
      "  error: subprocess-exited-with-error\n",
      "  \n",
      "  Getting requirements to build wheel did not run successfully.\n",
      "  exit code: 1\n",
      "  \n",
      "  [33 lines of output]\n",
      "  Traceback (most recent call last):\n",
      "    File \"C:\\Users\\ruizd\\anaconda3\\envs\\ASIES2\\Lib\\site-packages\\pip\\_vendor\\pyproject_hooks\\_in_process\\_in_process.py\", line 353, in <module>\n",
      "      main()\n",
      "    File \"C:\\Users\\ruizd\\anaconda3\\envs\\ASIES2\\Lib\\site-packages\\pip\\_vendor\\pyproject_hooks\\_in_process\\_in_process.py\", line 335, in main\n",
      "      json_out['return_val'] = hook(**hook_input['kwargs'])\n",
      "                               ^^^^^^^^^^^^^^^^^^^^^^^^^^^^\n",
      "    File \"C:\\Users\\ruizd\\anaconda3\\envs\\ASIES2\\Lib\\site-packages\\pip\\_vendor\\pyproject_hooks\\_in_process\\_in_process.py\", line 112, in get_requires_for_build_wheel\n",
      "      backend = _build_backend()\n",
      "                ^^^^^^^^^^^^^^^^\n",
      "    File \"C:\\Users\\ruizd\\anaconda3\\envs\\ASIES2\\Lib\\site-packages\\pip\\_vendor\\pyproject_hooks\\_in_process\\_in_process.py\", line 77, in _build_backend\n",
      "      obj = import_module(mod_path)\n",
      "            ^^^^^^^^^^^^^^^^^^^^^^^\n",
      "    File \"C:\\Users\\ruizd\\anaconda3\\envs\\ASIES2\\Lib\\importlib\\__init__.py\", line 90, in import_module\n",
      "      return _bootstrap._gcd_import(name[level:], package, level)\n",
      "             ^^^^^^^^^^^^^^^^^^^^^^^^^^^^^^^^^^^^^^^^^^^^^^^^^^^^\n",
      "    File \"<frozen importlib._bootstrap>\", line 1387, in _gcd_import\n",
      "    File \"<frozen importlib._bootstrap>\", line 1360, in _find_and_load\n",
      "    File \"<frozen importlib._bootstrap>\", line 1310, in _find_and_load_unlocked\n",
      "    File \"<frozen importlib._bootstrap>\", line 488, in _call_with_frames_removed\n",
      "    File \"<frozen importlib._bootstrap>\", line 1387, in _gcd_import\n",
      "    File \"<frozen importlib._bootstrap>\", line 1360, in _find_and_load\n",
      "    File \"<frozen importlib._bootstrap>\", line 1331, in _find_and_load_unlocked\n",
      "    File \"<frozen importlib._bootstrap>\", line 935, in _load_unlocked\n",
      "    File \"<frozen importlib._bootstrap_external>\", line 995, in exec_module\n",
      "    File \"<frozen importlib._bootstrap>\", line 488, in _call_with_frames_removed\n",
      "    File \"C:\\Users\\ruizd\\AppData\\Local\\Temp\\pip-build-env-072hyzt2\\overlay\\Lib\\site-packages\\setuptools\\__init__.py\", line 16, in <module>\n",
      "      import setuptools.version\n",
      "    File \"C:\\Users\\ruizd\\AppData\\Local\\Temp\\pip-build-env-072hyzt2\\overlay\\Lib\\site-packages\\setuptools\\version.py\", line 1, in <module>\n",
      "      import pkg_resources\n",
      "    File \"C:\\Users\\ruizd\\AppData\\Local\\Temp\\pip-build-env-072hyzt2\\overlay\\Lib\\site-packages\\pkg_resources\\__init__.py\", line 2172, in <module>\n",
      "      register_finder(pkgutil.ImpImporter, find_on_path)\n",
      "                      ^^^^^^^^^^^^^^^^^^^\n",
      "  AttributeError: module 'pkgutil' has no attribute 'ImpImporter'. Did you mean: 'zipimporter'?\n",
      "  [end of output]\n",
      "  \n",
      "  note: This error originates from a subprocess, and is likely not a problem with pip.\n",
      "error: subprocess-exited-with-error\n",
      "\n",
      "Getting requirements to build wheel did not run successfully.\n",
      "exit code: 1\n",
      "\n",
      "See above for output.\n",
      "\n",
      "note: This error originates from a subprocess, and is likely not a problem with pip.\n"
     ]
    }
   ],
   "source": [
    "! pip install NumPy==1.24.0"
   ]
  },
  {
   "cell_type": "code",
   "execution_count": 40,
   "id": "a3dc95fe-64c8-4f93-ae21-146d40f5698c",
   "metadata": {},
   "outputs": [
    {
     "ename": "AttributeError",
     "evalue": "`itemset` was removed from the ndarray class in NumPy 2.0. Use `arr[index] = value` instead.",
     "output_type": "error",
     "traceback": [
      "\u001b[1;31m---------------------------------------------------------------------------\u001b[0m",
      "\u001b[1;31mAttributeError\u001b[0m                            Traceback (most recent call last)",
      "Cell \u001b[1;32mIn[40], line 3\u001b[0m\n\u001b[0;32m      1\u001b[0m \u001b[38;5;28;01mimport\u001b[39;00m \u001b[38;5;21;01mahpy\u001b[39;00m\n\u001b[1;32m----> 3\u001b[0m policymaking \u001b[38;5;241m=\u001b[39m ahpy\u001b[38;5;241m.\u001b[39mCompare(\u001b[38;5;124m'\u001b[39m\u001b[38;5;124mpolicymaking\u001b[39m\u001b[38;5;124m'\u001b[39m, policymaking_comparisons, precision\u001b[38;5;241m=\u001b[39m\u001b[38;5;241m3\u001b[39m, random_index\u001b[38;5;241m=\u001b[39m\u001b[38;5;124m'\u001b[39m\u001b[38;5;124msaaty\u001b[39m\u001b[38;5;124m'\u001b[39m)\n\u001b[0;32m      4\u001b[0m incentives \u001b[38;5;241m=\u001b[39m ahpy\u001b[38;5;241m.\u001b[39mCompare(\u001b[38;5;124m'\u001b[39m\u001b[38;5;124mincentives\u001b[39m\u001b[38;5;124m'\u001b[39m, incentives_comparisons, precision\u001b[38;5;241m=\u001b[39m\u001b[38;5;241m3\u001b[39m, random_index\u001b[38;5;241m=\u001b[39m\u001b[38;5;124m'\u001b[39m\u001b[38;5;124msaaty\u001b[39m\u001b[38;5;124m'\u001b[39m)\n\u001b[0;32m      5\u001b[0m political_control \u001b[38;5;241m=\u001b[39m ahpy\u001b[38;5;241m.\u001b[39mCompare(\u001b[38;5;124m'\u001b[39m\u001b[38;5;124mpolitical_control\u001b[39m\u001b[38;5;124m'\u001b[39m, political_control_comparisons, precision\u001b[38;5;241m=\u001b[39m\u001b[38;5;241m3\u001b[39m, random_index\u001b[38;5;241m=\u001b[39m\u001b[38;5;124m'\u001b[39m\u001b[38;5;124msaaty\u001b[39m\u001b[38;5;124m'\u001b[39m)\n",
      "File \u001b[1;32m~\\anaconda3\\envs\\ASIES2\\Lib\\site-packages\\ahpy\\ahpy.py:74\u001b[0m, in \u001b[0;36mCompare.__init__\u001b[1;34m(self, name, comparisons, precision, random_index, iterations, tolerance, cr)\u001b[0m\n\u001b[0;32m     72\u001b[0m     \u001b[38;5;28mself\u001b[39m\u001b[38;5;241m.\u001b[39m_check_size()\n\u001b[0;32m     73\u001b[0m     \u001b[38;5;28mself\u001b[39m\u001b[38;5;241m.\u001b[39m_insert_comparisons()\n\u001b[1;32m---> 74\u001b[0m     \u001b[38;5;28mself\u001b[39m\u001b[38;5;241m.\u001b[39m_build_matrix()\n\u001b[0;32m     75\u001b[0m \u001b[38;5;28mself\u001b[39m\u001b[38;5;241m.\u001b[39m_get_missing_comparisons()\n\u001b[0;32m     76\u001b[0m \u001b[38;5;28;01mif\u001b[39;00m \u001b[38;5;28mself\u001b[39m\u001b[38;5;241m.\u001b[39m_missing_comparisons:\n",
      "File \u001b[1;32m~\\anaconda3\\envs\\ASIES2\\Lib\\site-packages\\ahpy\\ahpy.py:151\u001b[0m, in \u001b[0;36mCompare._build_matrix\u001b[1;34m(self)\u001b[0m\n\u001b[0;32m    149\u001b[0m \u001b[38;5;28;01mfor\u001b[39;00m pair, value \u001b[38;5;129;01min\u001b[39;00m \u001b[38;5;28mself\u001b[39m\u001b[38;5;241m.\u001b[39m_pairs\u001b[38;5;241m.\u001b[39mitems():\n\u001b[0;32m    150\u001b[0m     location \u001b[38;5;241m=\u001b[39m \u001b[38;5;28mtuple\u001b[39m(\u001b[38;5;28mself\u001b[39m\u001b[38;5;241m.\u001b[39m_elements\u001b[38;5;241m.\u001b[39mindex(elements) \u001b[38;5;28;01mfor\u001b[39;00m elements \u001b[38;5;129;01min\u001b[39;00m pair)\n\u001b[1;32m--> 151\u001b[0m     \u001b[38;5;28mself\u001b[39m\u001b[38;5;241m.\u001b[39m_matrix\u001b[38;5;241m.\u001b[39mitemset(location, value)\n",
      "\u001b[1;31mAttributeError\u001b[0m: `itemset` was removed from the ndarray class in NumPy 2.0. Use `arr[index] = value` instead."
     ]
    }
   ],
   "source": [
    "import ahpy\n",
    "\n",
    "policymaking = ahpy.Compare('policymaking', policymaking_comparisons, precision=3, random_index='saaty')\n",
    "incentives = ahpy.Compare('incentives', incentives_comparisons, precision=3, random_index='saaty')\n",
    "political_control = ahpy.Compare('political_control', political_control_comparisons, precision=3, random_index='saaty')\n",
    "criteria = ahpy.Compare('criteria', criteria_comparisons, precision=3, random_index='saaty')"
   ]
  },
  {
   "cell_type": "markdown",
   "id": "d95fc0ea-ad86-47be-a755-1b9faf0f38b3",
   "metadata": {},
   "source": [
    "## 6. Create hierarchy"
   ]
  },
  {
   "cell_type": "code",
   "execution_count": null,
   "id": "d226801d-fa09-417d-9b8e-80684e873a39",
   "metadata": {},
   "outputs": [],
   "source": [
    "criteria.add_children([policymaking, incentives, political_control])"
   ]
  },
  {
   "cell_type": "markdown",
   "id": "77ddc147-3cb9-4909-8931-dac1c162cbb4",
   "metadata": {},
   "source": [
    "## 7. See result:"
   ]
  },
  {
   "cell_type": "code",
   "execution_count": 23,
   "id": "4fdce081-7aa0-4305-9e87-3cd001b5a34c",
   "metadata": {},
   "outputs": [
    {
     "name": "stdout",
     "output_type": "stream",
     "text": [
      "{'Spain': 0.032, 'USA': 0.012, 'Brazil': 0.004, 'Germany': 0.001}\n"
     ]
    }
   ],
   "source": [
    "print(criteria.target_weights)"
   ]
  },
  {
   "cell_type": "markdown",
   "id": "d5215d3e-30c4-435b-94f9-4b328e47eeb1",
   "metadata": {},
   "source": [
    "## 8. Assess consistency"
   ]
  },
  {
   "cell_type": "code",
   "execution_count": 55,
   "id": "63c3c634-e5ec-4bb1-ae7f-ea04230982c7",
   "metadata": {},
   "outputs": [
    {
     "ename": "NameError",
     "evalue": "name 'policymaking' is not defined",
     "output_type": "error",
     "traceback": [
      "\u001b[1;31m---------------------------------------------------------------------------\u001b[0m",
      "\u001b[1;31mNameError\u001b[0m                                 Traceback (most recent call last)",
      "Cell \u001b[1;32mIn[55], line 2\u001b[0m\n\u001b[0;32m      1\u001b[0m \u001b[38;5;66;03m## We should review comparissons if greater than 0.1!\u001b[39;00m\n\u001b[1;32m----> 2\u001b[0m [(val\u001b[38;5;241m.\u001b[39mname,val\u001b[38;5;241m.\u001b[39mconsistency_ratio) \u001b[38;5;28;01mfor\u001b[39;00m val \u001b[38;5;129;01min\u001b[39;00m [policymaking, incentives, political_contorl, criteria]]\n",
      "\u001b[1;31mNameError\u001b[0m: name 'policymaking' is not defined"
     ]
    }
   ],
   "source": [
    "## We should review comparissons if greater than 0.1!\n",
    "[(val.name,val.consistency_ratio) for val in [policymaking, incentives, political_control, criteria]]"
   ]
  },
  {
   "cell_type": "code",
   "execution_count": null,
   "id": "a2797784-f9e5-4da1-a3ea-ed42e4fc70f1",
   "metadata": {},
   "outputs": [],
   "source": []
  }
 ],
 "metadata": {
  "kernelspec": {
   "display_name": "Python 3 (ipykernel)",
   "language": "python",
   "name": "python3"
  },
  "language_info": {
   "codemirror_mode": {
    "name": "ipython",
    "version": 3
   },
   "file_extension": ".py",
   "mimetype": "text/x-python",
   "name": "python",
   "nbconvert_exporter": "python",
   "pygments_lexer": "ipython3",
   "version": "3.12.7"
  }
 },
 "nbformat": 4,
 "nbformat_minor": 5
}
